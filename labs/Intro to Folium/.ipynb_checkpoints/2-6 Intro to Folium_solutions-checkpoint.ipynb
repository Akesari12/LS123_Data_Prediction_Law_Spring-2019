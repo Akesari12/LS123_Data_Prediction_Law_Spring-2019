{
 "cells": [
  {
   "cell_type": "code",
   "execution_count": 1,
   "metadata": {},
   "outputs": [
    {
     "ename": "ModuleNotFoundError",
     "evalue": "No module named 'folium'",
     "output_type": "error",
     "traceback": [
      "\u001b[1;31m---------------------------------------------------------------------------\u001b[0m",
      "\u001b[1;31mModuleNotFoundError\u001b[0m                       Traceback (most recent call last)",
      "\u001b[1;32m<ipython-input-1-cdb45c5f156c>\u001b[0m in \u001b[0;36m<module>\u001b[1;34m()\u001b[0m\n\u001b[0;32m      2\u001b[0m \u001b[0mget_ipython\u001b[0m\u001b[1;33m(\u001b[0m\u001b[1;33m)\u001b[0m\u001b[1;33m.\u001b[0m\u001b[0mrun_line_magic\u001b[0m\u001b[1;33m(\u001b[0m\u001b[1;34m'matplotlib'\u001b[0m\u001b[1;33m,\u001b[0m \u001b[1;34m'inline'\u001b[0m\u001b[1;33m)\u001b[0m\u001b[1;33m\u001b[0m\u001b[0m\n\u001b[0;32m      3\u001b[0m \u001b[1;32mimport\u001b[0m \u001b[0mmatplotlib\u001b[0m\u001b[1;33m.\u001b[0m\u001b[0mpyplot\u001b[0m \u001b[1;32mas\u001b[0m \u001b[0mplt\u001b[0m\u001b[1;33m\u001b[0m\u001b[0m\n\u001b[1;32m----> 4\u001b[1;33m \u001b[1;32mfrom\u001b[0m \u001b[0mfolium\u001b[0m\u001b[1;33m.\u001b[0m\u001b[0mplugins\u001b[0m \u001b[1;32mimport\u001b[0m \u001b[0mHeatMap\u001b[0m\u001b[1;33m\u001b[0m\u001b[0m\n\u001b[0m\u001b[0;32m      5\u001b[0m \u001b[1;32mimport\u001b[0m \u001b[0mnumpy\u001b[0m \u001b[1;32mas\u001b[0m \u001b[0mnp\u001b[0m\u001b[1;33m\u001b[0m\u001b[0m\n\u001b[0;32m      6\u001b[0m \u001b[1;32mimport\u001b[0m \u001b[0mfolium\u001b[0m\u001b[1;33m\u001b[0m\u001b[0m\n",
      "\u001b[1;31mModuleNotFoundError\u001b[0m: No module named 'folium'"
     ]
    }
   ],
   "source": [
    "#from datascience import *\n",
    "%matplotlib inline\n",
    "import matplotlib.pyplot as plt\n",
    "from folium.plugins import HeatMap\n",
    "import numpy as np\n",
    "import folium\n",
    "import json\n",
    "import os"
   ]
  },
  {
   "cell_type": "code",
   "execution_count": null,
   "metadata": {},
   "outputs": [],
   "source": [
    "!pip install folium --upgrade"
   ]
  },
  {
   "cell_type": "code",
   "execution_count": null,
   "metadata": {},
   "outputs": [],
   "source": [
    "from folium.plugins import HeatMap"
   ]
  },
  {
   "cell_type": "markdown",
   "metadata": {},
   "source": [
    "## Data"
   ]
  },
  {
   "cell_type": "markdown",
   "metadata": {},
   "source": [
    "This lab will serve as an introduction to the folium package. We will learn how to plot a folium map, overlay it with a json file, and add markers. Consult (https://python-visualization.github.io/folium/quickstart.html) for help! We will use folium's interface for building the base maps, and the \"us-states\" dataset for overlaying a GeoJSON file."
   ]
  },
  {
   "cell_type": "markdown",
   "metadata": {},
   "source": [
    "## Basic Mapping"
   ]
  },
  {
   "cell_type": "code",
   "execution_count": null,
   "metadata": {},
   "outputs": [],
   "source": [
    "us_states = os.path.join('data', 'us-states.json')\n",
    "geo_json_data = json.load(open(us_states))"
   ]
  },
  {
   "cell_type": "markdown",
   "metadata": {},
   "source": [
    "First, plot a map of the United States. To do this:\n",
    "\n",
    "1. Look up the coordinates for the geographic center of the United States\n",
    "2. Use folium.Map to plot the U.S. based on these coordiantes\n",
    "3. Experiment with different zoom_start numbers to visualize the continental U.S."
   ]
  },
  {
   "cell_type": "code",
   "execution_count": null,
   "metadata": {},
   "outputs": [],
   "source": [
    "m = folium.Map([x], zoom_start=4)\n",
    "m"
   ]
  },
  {
   "cell_type": "markdown",
   "metadata": {},
   "source": [
    "#### Question 1"
   ]
  },
  {
   "cell_type": "markdown",
   "metadata": {},
   "source": [
    "Where is the geographic center of the United States? Why does it make sense to start from the center and them zoom out?"
   ]
  },
  {
   "cell_type": "markdown",
   "metadata": {},
   "source": [
    "## Overlay with GeoJson data"
   ]
  },
  {
   "cell_type": "markdown",
   "metadata": {},
   "source": [
    "In this next section, we will learn how to work with GeoJSON data. JavaScript Object Notation (JSON) is an open-standard file format that maps text into attributes. GeoJSON is a particular implementation of this that stores geographic information (shapes of boundaries, coordinates, etc.). Now use folium.GeoJson to overlay the \"us_states\" json file on top of the map of the U.S.\n",
    "\n",
    "Hint: The GeoJSON file was already loaded in earlier with the \"json.load\" command!"
   ]
  },
  {
   "cell_type": "code",
   "execution_count": null,
   "metadata": {},
   "outputs": [],
   "source": [
    "geo_json_data"
   ]
  },
  {
   "cell_type": "code",
   "execution_count": null,
   "metadata": {},
   "outputs": [],
   "source": [
    "folium.GeoJson(geo_json_data\n",
    ").add_to(m)\n",
    "\n",
    "m"
   ]
  },
  {
   "cell_type": "markdown",
   "metadata": {},
   "source": [
    "Add a \"style function\" to customize your GeoJSON overlay! Try following this format:\n",
    "\n",
    "folium.GeoJson(\n",
    "    geo_json_data,\n",
    "    style_function = lambda feature: {\n",
    "        'fillColor':\n",
    "        'color':\n",
    "        'weight':\n",
    "        'dashArray':\n",
    "    )\n",
    ").add_to()\n",
    "\n",
    "Experiment with different options for these arguments, then call your map."
   ]
  },
  {
   "cell_type": "code",
   "execution_count": null,
   "metadata": {},
   "outputs": [],
   "source": [
    "folium.GeoJson(\n",
    "    geo_json_data,\n",
    "    style_function=lambda feature: {\n",
    "        'fillColor': '#ffff00',\n",
    "        'color': 'black',\n",
    "        'weight': 2,\n",
    "        'dashArray': '2, 2'\n",
    "    }\n",
    ").add_to(m)\n",
    "\n",
    "m"
   ]
  },
  {
   "cell_type": "markdown",
   "metadata": {},
   "source": [
    "Now write code that customizes the 'fillColor' argument to fill in states that you have visited! \n",
    "\n",
    "Here's a hint:\n",
    "'fillColor': 'green' if 'e' in feature['properties']['name'].tolower() else '#ffff00'\n",
    "\n",
    "would generate a map where states with 'e' in their names would be shaded green, and the rest would be shaded yellow ('#ffff00' is the hex color for yellow). Try adding more \"else\" statements for the states that you have visited."
   ]
  },
  {
   "cell_type": "code",
   "execution_count": null,
   "metadata": {},
   "outputs": [],
   "source": [
    "folium.GeoJson(\n",
    "    geo_json_data,\n",
    "    style_function=lambda feature: {\n",
    "        'fillColor': 'green' if 'california' in feature['properties']['name'].lower() \n",
    "        else 'green' if 'new jersey' in feature['properties']['name'].lower()\n",
    "        else 'green' if 'new york' in feature['properties']['name'].lower()\n",
    "        else 'green' if 'pennsylvania' in feature['properties']['name'].lower()\n",
    "        else 'green' if 'maryland' in feature['properties']['name'].lower()\n",
    "        else 'green' if 'delaware' in feature['properties']['name'].lower()\n",
    "        else 'green' if 'connecticut' in feature['properties']['name'].lower()\n",
    "        else 'green' if 'massachusetts' in feature['properties']['name'].lower()\n",
    "        else 'green' if 'ohio' in feature['properties']['name'].lower()\n",
    "        else 'green' if 'indiana' in feature['properties']['name'].lower()\n",
    "        else 'green' if 'illinois' in feature['properties']['name'].lower()\n",
    "        else 'green' if 'wisconsin' in feature['properties']['name'].lower()\n",
    "        else 'green' if 'michigan' in feature['properties']['name'].lower()\n",
    "        else 'green' if 'virginia' in feature['properties']['name'].lower()\n",
    "        else 'green' if 'north carolina' in feature['properties']['name'].lower()\n",
    "        else 'green' if 'florida' in feature['properties']['name'].lower()\n",
    "        else 'green' if 'louisiana' in feature['properties']['name'].lower()\n",
    "        else 'green' if 'arizona' in feature['properties']['name'].lower()\n",
    "        else 'green' if 'utah' in feature['properties']['name'].lower()\n",
    "        else 'green' if 'nevada' in feature['properties']['name'].lower()\n",
    "        else 'green' if 'washington' in feature['properties']['name'].lower()\n",
    "        else 'green' if 'oregon' in feature['properties']['name'].lower()\n",
    "        else 'green' if 'colorado' in feature['properties']['name'].lower()\n",
    "        else '#ffff00',\n",
    "        'color': 'black',\n",
    "        'weight': 2,\n",
    "        'dashArray': '5, 5'\n",
    "    }\n",
    ").add_to(m)\n",
    "\n",
    "m"
   ]
  },
  {
   "cell_type": "markdown",
   "metadata": {},
   "source": [
    "## Tiles and Markers"
   ]
  },
  {
   "cell_type": "markdown",
   "metadata": {},
   "source": [
    "Now let's try plotting San Francisco! Do the following:\n",
    "\n",
    "1. Save the coordinates into an object called \"sf_coords\"\n",
    "2. Use \"sf_coords\" in the \"folium.Map\" argument instead of explicitly calling the coordinates\n",
    "3. Create four maps using zoom levels 1, 4, 12, and 20. Which one provides the best look at San Francisco?"
   ]
  },
  {
   "cell_type": "code",
   "execution_count": null,
   "metadata": {},
   "outputs": [],
   "source": [
    "sf_coords = (37.76, -122.45)\n",
    "sfmap_zoom1 = folium.Map(sf_coords, zoom_start = 1)\n",
    "sfmap_zoom4 = folium.Map(sf_coords, zoom_start = 4)\n",
    "sfmap_zoom12 = folium.Map(sf_coords, zoom_start = 12)\n",
    "sfmap_zoom20 = folium.Map(sf_coords, zoom_start = 20)"
   ]
  },
  {
   "cell_type": "code",
   "execution_count": null,
   "metadata": {},
   "outputs": [],
   "source": [
    "sfmap_zoom1"
   ]
  },
  {
   "cell_type": "code",
   "execution_count": null,
   "metadata": {},
   "outputs": [],
   "source": [
    "sfmap_zoom4"
   ]
  },
  {
   "cell_type": "code",
   "execution_count": null,
   "metadata": {},
   "outputs": [],
   "source": [
    "sfmap_zoom12"
   ]
  },
  {
   "cell_type": "code",
   "execution_count": null,
   "metadata": {},
   "outputs": [],
   "source": [
    "sfmap_zoom20"
   ]
  },
  {
   "cell_type": "markdown",
   "metadata": {},
   "source": [
    "Now add the \"tiles\" argument to folium.Map. Plot maps of San Francisco with the \"Stamen Toner\" tileset, and the \"Mapbox Bright\" tileset."
   ]
  },
  {
   "cell_type": "code",
   "execution_count": null,
   "metadata": {},
   "outputs": [],
   "source": [
    "sfmap_stamen_toner = folium.Map(sf_coords, tiles = \"Stamen Toner\", zoom_start = 12)\n",
    "sfmap_stamen_toner"
   ]
  },
  {
   "cell_type": "code",
   "execution_count": null,
   "metadata": {
    "scrolled": true
   },
   "outputs": [],
   "source": [
    "sfmap_mapbox = folium.Map(sf_coords, tiles = \"Mapbox Bright\", zoom_start = 10)\n",
    "sfmap_mapbox"
   ]
  },
  {
   "cell_type": "markdown",
   "metadata": {},
   "source": [
    "Next, plot a map of the United States again. Place markers at the following famous landmarks:\n",
    "\n",
    "1. The Statue of Liberty (New York City/New Jersey)\n",
    "2. Yosemite National Park (California)\n",
    "3. Gateway Arch (St. Louis, Missouri)\n",
    "4. Independence Hall (Philadelphia, Pennsylvania)\n",
    "5. Cloud Gate (Chicago, Illinois)\n",
    "6. United States Capitol Building (Washington D.C.)\n",
    "7. Jackson Square (New Orleans, Louisiana)\n",
    "8. Space Needle (Seattle, Washington)\n",
    "9. Walt Disney World (Orlando, Florida)\n",
    "10. Las Vegas Strip (Las Vegas, Nevada)\n",
    "\n",
    "Experiment with different icon types by using the \"folium.Icon\" argument! Try placing one \"cloud\" icon and one \"green\" icon on the map!"
   ]
  },
  {
   "cell_type": "code",
   "execution_count": null,
   "metadata": {},
   "outputs": [],
   "source": [
    "us_map = folium.Map([39.83, -98.59], zoom_start=4)\n",
    "folium.Marker([40.6892, -74.0445], popup = 'Statue of Liberty', icon = folium.Icon(icon='cloud')).add_to(us_map)\n",
    "folium.Marker([37.8651, -119.5393], popup = \"Yosemite National Park\", icon = folium.Icon(color = 'green')).add_to(us_map)\n",
    "folium.Marker([38.6247, -90.1848], popup = \"Gateway Arch\").add_to(us_map)\n",
    "folium.Marker([39.9489, -75.1500], popup = \"Independence Hall\").add_to(us_map)\n",
    "folium.Marker([41.8827, -87.6233], popup = \"Cloud Gate\").add_to(us_map)\n",
    "folium.Marker([38.8899, -77.0091], popup = \"United States Capitol Building\").add_to(us_map)\n",
    "folium.Marker([29.9574, -90.0629], popup = \"Jackson Square\").add_to(us_map)\n",
    "folium.Marker([47.6205, -122.3493], popup = \"Space Needle\").add_to(us_map)\n",
    "folium.Marker([28.3852, -81.5639], popup = \"Walt Disney World\").add_to(us_map)\n",
    "folium.Marker([36.1147, -115.1728], popup = \"Las Vegas Strip\").add_to(us_map)\n",
    "us_map"
   ]
  },
  {
   "cell_type": "markdown",
   "metadata": {},
   "source": [
    "Next, create a map of Berkeley. Use the \"folium.ClickforMarker()\" method to place mstkrtd at the following locations by clicking:\n",
    "1. Barrows Hall\n",
    "2. UC Berkeley Law\n",
    "3. The Big C\n",
    "4. The Campanile"
   ]
  },
  {
   "cell_type": "code",
   "execution_count": null,
   "metadata": {},
   "outputs": [],
   "source": [
    "berkeley_map = folium.Map([37.8716, -122.2727], zoom_start=15)\n",
    "berkeley_map.add_child(folium.ClickForMarker())\n",
    "berkeley_map"
   ]
  },
  {
   "cell_type": "markdown",
   "metadata": {},
   "source": []
  },
  {
   "cell_type": "code",
   "execution_count": null,
   "metadata": {},
   "outputs": [],
   "source": []
  },
  {
   "cell_type": "code",
   "execution_count": null,
   "metadata": {},
   "outputs": [],
   "source": []
  },
  {
   "cell_type": "code",
   "execution_count": null,
   "metadata": {},
   "outputs": [],
   "source": []
  },
  {
   "cell_type": "code",
   "execution_count": null,
   "metadata": {},
   "outputs": [],
   "source": []
  }
 ],
 "metadata": {
  "kernelspec": {
   "display_name": "Python 3",
   "language": "python",
   "name": "python3"
  },
  "language_info": {
   "codemirror_mode": {
    "name": "ipython",
    "version": 3
   },
   "file_extension": ".py",
   "mimetype": "text/x-python",
   "name": "python",
   "nbconvert_exporter": "python",
   "pygments_lexer": "ipython3",
   "version": "3.6.5"
  }
 },
 "nbformat": 4,
 "nbformat_minor": 2
}
